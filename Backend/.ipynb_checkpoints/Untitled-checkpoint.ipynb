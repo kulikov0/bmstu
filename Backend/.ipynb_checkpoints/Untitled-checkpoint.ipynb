{
 "cells": [
  {
   "cell_type": "code",
   "execution_count": 7,
   "metadata": {},
   "outputs": [
    {
     "name": "stdout",
     "output_type": "stream",
     "text": [
      "Detection 0: Left: 33 Top: -52 Right: 418 Bottom: 376\n",
      "<dlib.full_object_detection object at 0x7f6dd5be2c38>\n"
     ]
    }
   ],
   "source": [
    "import dlib\n",
    "from skimage import io\n",
    "from scipy.spatial import distance\n",
    "import numpy as np\n",
    "\n",
    "#предобученные модели\n",
    "\n",
    "sp = dlib.shape_predictor('1.dat')\n",
    "facerec = dlib.face_recognition_model_v1('2.dat')\n",
    "detector = dlib.get_frontal_face_detector()\n",
    "\n",
    "#первое фото\n",
    "\n",
    "img = io.imread('2.jpeg')\n",
    "\n",
    "#поиск лица\n",
    "\n",
    "dets = detector(img, 1)\n",
    "for k, d in enumerate(dets):\n",
    "    print(\"Detection {}: Left: {} Top: {} Right: {} Bottom: {}\".format(\n",
    "        k, d.left(), d.top(), d.right(), d.bottom()))\n",
    "    shape = sp(img, d)\n",
    "    print(shape)\n",
    "#берем дескриптор\n",
    "\n",
    "face_descriptor1 = facerec.compute_face_descriptor(img, shape)\n"
   ]
  },
  {
   "cell_type": "code",
   "execution_count": 2,
   "metadata": {},
   "outputs": [],
   "source": [
    "img = io.imread('test.jpg')\n",
    "\n",
    "dets_webcam = detector(img, 1)\n",
    "for k, d in enumerate(dets_webcam):\n",
    "    shape = sp(img, d)\n",
    "\n",
    "#выгружаем второй дескриптор\n",
    "\n",
    "face_descriptor2 = facerec.compute_face_descriptor(img, shape)\n",
    "#file_2 = open(\"file2\", \"w\")\n",
    "#file_2.write(str(face_descriptor2))\n",
    "#file_2.close()"
   ]
  },
  {
   "cell_type": "code",
   "execution_count": 47,
   "metadata": {
    "collapsed": true
   },
   "outputs": [],
   "source": [
    "#face_descriptor1 = (open(\"file\", \"r\")).read()\n",
    "#dlib.array=face_descriptor1\n",
    "#face_descriptor2 = (open(\"file2\", \"r\")).read()\n"
   ]
  },
  {
   "cell_type": "code",
   "execution_count": 5,
   "metadata": {},
   "outputs": [
    {
     "name": "stdout",
     "output_type": "stream",
     "text": [
      "0.8502053006959135\n"
     ]
    }
   ],
   "source": [
    "a = distance.euclidean(face_descriptor1, face_descriptor2)\n",
    "print(a)"
   ]
  },
  {
   "cell_type": "code",
   "execution_count": 94,
   "metadata": {
    "collapsed": true
   },
   "outputs": [],
   "source": [
    "import dlib\n",
    "from skimage import io\n",
    "import numpy as np\n",
    "img = io.imread('test.jpg')\n",
    "\n",
    "dets_webcam = detector(img, 1)\n",
    "for k, d in enumerate(dets_webcam):\n",
    "    shape = sp(img, d)\n",
    "\n",
    "face_descriptor1 = facerec.compute_face_descriptor(img, shape)\n",
    "np.save(\"database/test.npy\", face_descriptor1)\n",
    "\n",
    "\n"
   ]
  },
  {
   "cell_type": "code",
   "execution_count": 80,
   "metadata": {
    "collapsed": true
   },
   "outputs": [],
   "source": [
    "np.save(\"test.npy\", face_descriptor1)\n",
    "np.save(\"test1.npy\", face_descriptor2)"
   ]
  },
  {
   "cell_type": "code",
   "execution_count": 81,
   "metadata": {},
   "outputs": [
    {
     "name": "stdout",
     "output_type": "stream",
     "text": [
      "[-0.05053119  0.19078024  0.06264677  0.03046943 -0.11543722  0.00159196\n",
      "  0.00474098 -0.04600982  0.16734798 -0.01449634  0.21968371 -0.12269992\n",
      " -0.29412133 -0.03116026 -0.03849253  0.07693448 -0.1509479  -0.17033671\n",
      " -0.06503488 -0.07243329  0.10347067  0.00216504 -0.04902152  0.1016552\n",
      " -0.16937977 -0.34479541 -0.0440025  -0.16400532  0.04595247 -0.2019354\n",
      "  0.00964876  0.05738194 -0.20019616 -0.13333052 -0.00968015  0.09040698\n",
      " -0.05902282 -0.11247344  0.24436729  0.01050751 -0.14344133  0.10650551\n",
      "  0.08876584  0.31640539  0.13163975  0.04681768  0.01544076 -0.09271953\n",
      "  0.20463015 -0.27322459  0.08820313  0.15284367  0.23782027  0.12593022\n",
      "  0.11584154 -0.23992831  0.03601578  0.16940255 -0.31220445  0.19237854\n",
      "  0.07556604 -0.01768477 -0.00860495 -0.0832727   0.19653621  0.10230518\n",
      " -0.06874777 -0.1413801   0.13220824 -0.20225526 -0.0827503   0.20516384\n",
      " -0.05673397 -0.23130055 -0.26953867  0.15206927  0.41932964  0.22608498\n",
      " -0.22839198 -0.03821278  0.0245565  -0.03049063  0.08746682  0.06491441\n",
      " -0.12507132 -0.0348383  -0.11730803  0.00530659  0.20489803  0.08517428\n",
      " -0.09632449  0.26619062  0.05027699  0.07218783  0.04950363 -0.04150992\n",
      " -0.12552905  0.00215954 -0.17254336 -0.00343813 -0.01344359 -0.09540801\n",
      " -0.07795203  0.04124125 -0.14839023  0.0752012  -0.04185374 -0.05448794\n",
      " -0.11772734  0.0067692  -0.18578945  0.06228616  0.22168601 -0.39546531\n",
      "  0.19807452  0.14375909  0.07171522  0.12025603  0.11003376  0.00799088\n",
      "  0.07445202 -0.08602136 -0.19540362 -0.07533574  0.16136411 -0.08191057\n",
      "  0.05783506 -0.01134712] end\n",
      "[-0.10022959  0.11041927  0.09498051 -0.04399281 -0.13116464 -0.00349767\n",
      " -0.05077127 -0.06571646  0.25652859 -0.04911854  0.11785481 -0.01919598\n",
      " -0.27881169  0.01148154 -0.04728086  0.18614873 -0.17841138 -0.1860362\n",
      " -0.00260942 -0.05896496  0.09845927 -0.00836725  0.01130351  0.16916868\n",
      " -0.18739209 -0.31949762 -0.06413677 -0.04923762 -0.07975843 -0.1324217\n",
      "  0.02336259  0.12563607 -0.24186912 -0.01258606 -0.00692711  0.23972794\n",
      "  0.00757486 -0.12150066  0.12258276  0.11049909 -0.33593383 -0.04702985\n",
      "  0.05384761  0.27487004  0.25116232 -0.00138971  0.01807467 -0.07125238\n",
      "  0.16891728 -0.31653479  0.08302817  0.17451052  0.13531014  0.05681395\n",
      "  0.08207812 -0.18829817  0.07518961  0.13417594 -0.18931776 -0.04175136\n",
      "  0.12966269 -0.15788479  0.09300062 -0.06622231  0.23915769  0.13286528\n",
      " -0.08469549 -0.10891901  0.16963606 -0.18877502 -0.08494449  0.15826485\n",
      " -0.07042048 -0.19069028 -0.35727203  0.07923059  0.44491157  0.19950598\n",
      " -0.14172572  0.0781933  -0.05571183  0.02506818 -0.00064211  0.25836861\n",
      " -0.05215877  0.13890575 -0.1290929   0.02636312  0.20522252  0.03067128\n",
      "  0.03477305  0.30282497  0.02937593  0.02196303  0.05363303  0.01564738\n",
      " -0.12089353  0.02690766 -0.13555011 -0.06183247 -0.0576095   0.01129974\n",
      "  0.01346137  0.06758232 -0.23077032  0.1025595  -0.05992368 -0.07292268\n",
      " -0.08441839 -0.07019688 -0.02612646 -0.02468598  0.13416454 -0.35299328\n",
      "  0.06586147  0.11771068  0.00496352  0.17356589  0.05515534  0.15392061\n",
      "  0.00705827 -0.15101996 -0.10837939  0.02632947  0.11312594 -0.0933248\n",
      "  0.05010626  0.02832881] end\n",
      "0.8508644551632875\n"
     ]
    }
   ],
   "source": [
    "v1 = np.load(\"test.npy\")\n",
    "print(v1, \"end\")\n",
    "v2 = np.load(\"test1.npy\")\n",
    "print(v2, \"end\")\n",
    "dist = distance.euclidean(v1, v2)\n",
    "print(dist)"
   ]
  },
  {
   "cell_type": "code",
   "execution_count": 87,
   "metadata": {},
   "outputs": [
    {
     "name": "stdout",
     "output_type": "stream",
     "text": [
      "0.8508644551632875\n"
     ]
    }
   ],
   "source": [
    "import dlib\n",
    "from skimage import io\n",
    "from scipy.spatial import distance\n",
    "import numpy as np\n",
    "\n",
    "#предобученные модели\n",
    "\n",
    "sp = dlib.shape_predictor('1.dat')\n",
    "facerec = dlib.face_recognition_model_v1('2.dat')\n",
    "detector = dlib.get_frontal_face_detector()\n",
    "\n",
    "#первое фото\n",
    "\n",
    "img = io.imread('test1.jpg')\n",
    "\n",
    "#поиск лица\n",
    "\n",
    "dets = detector(img, 1)\n",
    "for k, d in enumerate(dets):\n",
    "    shape = sp(img, d)\n",
    "#берем дескриптор\n",
    "\n",
    "face_descriptor1 = facerec.compute_face_descriptor(img, shape)\n",
    "\n",
    "#Загружаем дескриптор из базы данных\n",
    "\n",
    "face_descriptor2 = np.load('test1.npy')\n",
    "#Евклидово расстояние\n",
    "a = distance.euclidean(face_descriptor1, face_descriptor2)\n",
    "print(a)"
   ]
  },
  {
   "cell_type": "code",
   "execution_count": 9,
   "metadata": {},
   "outputs": [
    {
     "name": "stdout",
     "output_type": "stream",
     "text": [
      "126230 bytes\n",
      "98085 bytes\n",
      "120612 bytes\n"
     ]
    }
   ],
   "source": [
    "import glob\n",
    "import os\n",
    "\n",
    "filename_list = glob.glob('*.jpeg')\n",
    "\n",
    "for filename in filename_list:\n",
    "    with open(filename, 'rb') as f:\n",
    "        img_data = f.read()\n",
    "        print('{} bytes'.format(len(img_data)))"
   ]
  },
  {
   "cell_type": "code",
   "execution_count": 22,
   "metadata": {},
   "outputs": [
    {
     "name": "stdout",
     "output_type": "stream",
     "text": [
      "('120612 bytes', 'fucking_test.jpeg1.jpeg2.jpeg')\n"
     ]
    }
   ],
   "source": [
    "import glob\n",
    "import os\n",
    "filename_list = glob.glob('*.jpeg')\n",
    "filename = filename_list[0]  # Первый файл\n",
    "# или:\n",
    "filename = filename_list[-1]  # Последний файл\n",
    "\n",
    "with open(filename, 'rb') as f:\n",
    "    img_data = f.read()\n",
    "    filename_list = ''.join(filename_list)\n",
    "    a = ('{} bytes'.format(len(img_data)), filename_list)\n",
    "    print(a)"
   ]
  },
  {
   "cell_type": "code",
   "execution_count": 42,
   "metadata": {},
   "outputs": [],
   "source": [
    "import dlib\n",
    "from skimage import io\n",
    "from scipy.spatial import distance\n",
    "import numpy as np\n",
    "import glob\n",
    "import os\n",
    "\n",
    "filename_list = glob.glob('*.jpeg')\n",
    "\n",
    "\n",
    "for filename in filename_list:\n",
    "    with open(filename, 'rb') as f:\n",
    "        img_data = f.read()\n",
    "        file = open(\"sukatest.txt\", \"w\")\n",
    "        file.write(str(filename_list))\n",
    "        file.close\n",
    "    \n",
    "\n"
   ]
  },
  {
   "cell_type": "code",
   "execution_count": 28,
   "metadata": {},
   "outputs": [
    {
     "data": {
      "text/plain": [
       "\"['fucking_test.jpeg', '1.jpeg', '2.jpeg']\""
      ]
     },
     "execution_count": 28,
     "metadata": {},
     "output_type": "execute_result"
    }
   ],
   "source": [
    "filename_list"
   ]
  },
  {
   "cell_type": "code",
   "execution_count": null,
   "metadata": {},
   "outputs": [],
   "source": []
  }
 ],
 "metadata": {
  "kernelspec": {
   "display_name": "Python 3",
   "language": "python",
   "name": "python3"
  },
  "language_info": {
   "codemirror_mode": {
    "name": "ipython",
    "version": 3
   },
   "file_extension": ".py",
   "mimetype": "text/x-python",
   "name": "python",
   "nbconvert_exporter": "python",
   "pygments_lexer": "ipython3",
   "version": "3.6.4"
  }
 },
 "nbformat": 4,
 "nbformat_minor": 2
}
